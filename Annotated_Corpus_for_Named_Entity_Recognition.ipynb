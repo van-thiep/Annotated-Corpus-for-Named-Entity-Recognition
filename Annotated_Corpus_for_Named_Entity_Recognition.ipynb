{
  "nbformat": 4,
  "nbformat_minor": 0,
  "metadata": {
    "colab": {
      "name": "Annotated Corpus for Named Entity Recognition.ipynb",
      "provenance": []
    },
    "kernelspec": {
      "name": "python3",
      "display_name": "Python 3"
    },
    "accelerator": "GPU"
  },
  "cells": [
    {
      "cell_type": "code",
      "metadata": {
        "id": "wkSmiNJrKRQ4",
        "colab_type": "code",
        "colab": {
          "base_uri": "https://localhost:8080/",
          "height": 34
        },
        "outputId": "b981c878-ea04-4a56-c5dc-e9b72f47b83c"
      },
      "source": [
        "import tensorflow as tf\n",
        "device_name = tf.test.gpu_device_name()\n",
        "if device_name != '/device:GPU:0':\n",
        "  raise SystemError('GPU device not found')\n",
        "print('Found GPU at: {}'.format(device_name))"
      ],
      "execution_count": 2,
      "outputs": [
        {
          "output_type": "stream",
          "text": [
            "Found GPU at: /device:GPU:0\n"
          ],
          "name": "stdout"
        }
      ]
    },
    {
      "cell_type": "code",
      "metadata": {
        "id": "LerqHTgqVOuy",
        "colab_type": "code",
        "colab": {
          "base_uri": "https://localhost:8080/",
          "height": 34
        },
        "outputId": "d8a3ee9d-7c68-4150-87e7-66cc4f97f781"
      },
      "source": [
        "import pandas as pd\n",
        "\n",
        "ner = pd.read_csv('/content/drive/My Drive/Google colab data/ner.csv',  encoding = \"ISO-8859-1\", error_bad_lines=False) \n",
        "ner_dataset = pd.read_csv('/content/drive/My Drive/Google colab data/ner_dataset.csv',encoding= 'latin1')"
      ],
      "execution_count": 5,
      "outputs": [
        {
          "output_type": "stream",
          "text": [
            "b'Skipping line 281837: expected 25 fields, saw 34\\n'\n"
          ],
          "name": "stderr"
        }
      ]
    },
    {
      "cell_type": "code",
      "metadata": {
        "id": "A4C0GRX7ntpW",
        "colab_type": "code",
        "colab": {
          "base_uri": "https://localhost:8080/",
          "height": 122
        },
        "outputId": "2cf64a39-aeab-4881-b028-69dd4718af18"
      },
      "source": [
        "from google.colab import drive\n",
        "drive.mount('/content/drive')"
      ],
      "execution_count": 4,
      "outputs": [
        {
          "output_type": "stream",
          "text": [
            "Go to this URL in a browser: https://accounts.google.com/o/oauth2/auth?client_id=947318989803-6bn6qk8qdgf4n4g3pfee6491hc0brc4i.apps.googleusercontent.com&redirect_uri=urn%3aietf%3awg%3aoauth%3a2.0%3aoob&scope=email%20https%3a%2f%2fwww.googleapis.com%2fauth%2fdocs.test%20https%3a%2f%2fwww.googleapis.com%2fauth%2fdrive%20https%3a%2f%2fwww.googleapis.com%2fauth%2fdrive.photos.readonly%20https%3a%2f%2fwww.googleapis.com%2fauth%2fpeopleapi.readonly&response_type=code\n",
            "\n",
            "Enter your authorization code:\n",
            "··········\n",
            "Mounted at /content/drive\n"
          ],
          "name": "stdout"
        }
      ]
    },
    {
      "cell_type": "code",
      "metadata": {
        "id": "ItpvPNNzZAqf",
        "colab_type": "code",
        "colab": {
          "base_uri": "https://localhost:8080/",
          "height": 204
        },
        "outputId": "493fe094-2c06-46ef-fbe6-9331deaf0eae"
      },
      "source": [
        "ner_dataset.head()"
      ],
      "execution_count": 6,
      "outputs": [
        {
          "output_type": "execute_result",
          "data": {
            "text/html": [
              "<div>\n",
              "<style scoped>\n",
              "    .dataframe tbody tr th:only-of-type {\n",
              "        vertical-align: middle;\n",
              "    }\n",
              "\n",
              "    .dataframe tbody tr th {\n",
              "        vertical-align: top;\n",
              "    }\n",
              "\n",
              "    .dataframe thead th {\n",
              "        text-align: right;\n",
              "    }\n",
              "</style>\n",
              "<table border=\"1\" class=\"dataframe\">\n",
              "  <thead>\n",
              "    <tr style=\"text-align: right;\">\n",
              "      <th></th>\n",
              "      <th>Sentence #</th>\n",
              "      <th>Word</th>\n",
              "      <th>POS</th>\n",
              "      <th>Tag</th>\n",
              "    </tr>\n",
              "  </thead>\n",
              "  <tbody>\n",
              "    <tr>\n",
              "      <th>0</th>\n",
              "      <td>Sentence: 1</td>\n",
              "      <td>Thousands</td>\n",
              "      <td>NNS</td>\n",
              "      <td>O</td>\n",
              "    </tr>\n",
              "    <tr>\n",
              "      <th>1</th>\n",
              "      <td>NaN</td>\n",
              "      <td>of</td>\n",
              "      <td>IN</td>\n",
              "      <td>O</td>\n",
              "    </tr>\n",
              "    <tr>\n",
              "      <th>2</th>\n",
              "      <td>NaN</td>\n",
              "      <td>demonstrators</td>\n",
              "      <td>NNS</td>\n",
              "      <td>O</td>\n",
              "    </tr>\n",
              "    <tr>\n",
              "      <th>3</th>\n",
              "      <td>NaN</td>\n",
              "      <td>have</td>\n",
              "      <td>VBP</td>\n",
              "      <td>O</td>\n",
              "    </tr>\n",
              "    <tr>\n",
              "      <th>4</th>\n",
              "      <td>NaN</td>\n",
              "      <td>marched</td>\n",
              "      <td>VBN</td>\n",
              "      <td>O</td>\n",
              "    </tr>\n",
              "  </tbody>\n",
              "</table>\n",
              "</div>"
            ],
            "text/plain": [
              "    Sentence #           Word  POS Tag\n",
              "0  Sentence: 1      Thousands  NNS   O\n",
              "1          NaN             of   IN   O\n",
              "2          NaN  demonstrators  NNS   O\n",
              "3          NaN           have  VBP   O\n",
              "4          NaN        marched  VBN   O"
            ]
          },
          "metadata": {
            "tags": []
          },
          "execution_count": 6
        }
      ]
    },
    {
      "cell_type": "code",
      "metadata": {
        "id": "69KsEplBanWd",
        "colab_type": "code",
        "colab": {
          "base_uri": "https://localhost:8080/",
          "height": 34
        },
        "outputId": "ef9157a2-c3df-4b78-e654-e2704a6cf4c9"
      },
      "source": [
        "ner_dataset.columns"
      ],
      "execution_count": 7,
      "outputs": [
        {
          "output_type": "execute_result",
          "data": {
            "text/plain": [
              "Index(['Sentence #', 'Word', 'POS', 'Tag'], dtype='object')"
            ]
          },
          "metadata": {
            "tags": []
          },
          "execution_count": 7
        }
      ]
    },
    {
      "cell_type": "code",
      "metadata": {
        "id": "N3VXbE2pa073",
        "colab_type": "code",
        "colab": {
          "base_uri": "https://localhost:8080/",
          "height": 204
        },
        "outputId": "9efe6d89-1167-4df6-cee1-4377a4b7c428"
      },
      "source": [
        "ner_dataset.info()"
      ],
      "execution_count": 8,
      "outputs": [
        {
          "output_type": "stream",
          "text": [
            "<class 'pandas.core.frame.DataFrame'>\n",
            "RangeIndex: 1048575 entries, 0 to 1048574\n",
            "Data columns (total 4 columns):\n",
            " #   Column      Non-Null Count    Dtype \n",
            "---  ------      --------------    ----- \n",
            " 0   Sentence #  47959 non-null    object\n",
            " 1   Word        1048575 non-null  object\n",
            " 2   POS         1048575 non-null  object\n",
            " 3   Tag         1048575 non-null  object\n",
            "dtypes: object(4)\n",
            "memory usage: 32.0+ MB\n"
          ],
          "name": "stdout"
        }
      ]
    },
    {
      "cell_type": "code",
      "metadata": {
        "id": "1kki39IGbBIM",
        "colab_type": "code",
        "colab": {
          "base_uri": "https://localhost:8080/",
          "height": 173
        },
        "outputId": "50533f10-13ed-44fb-c638-03316e7bb12c"
      },
      "source": [
        "ner_dataset.describe()"
      ],
      "execution_count": 9,
      "outputs": [
        {
          "output_type": "execute_result",
          "data": {
            "text/html": [
              "<div>\n",
              "<style scoped>\n",
              "    .dataframe tbody tr th:only-of-type {\n",
              "        vertical-align: middle;\n",
              "    }\n",
              "\n",
              "    .dataframe tbody tr th {\n",
              "        vertical-align: top;\n",
              "    }\n",
              "\n",
              "    .dataframe thead th {\n",
              "        text-align: right;\n",
              "    }\n",
              "</style>\n",
              "<table border=\"1\" class=\"dataframe\">\n",
              "  <thead>\n",
              "    <tr style=\"text-align: right;\">\n",
              "      <th></th>\n",
              "      <th>Sentence #</th>\n",
              "      <th>Word</th>\n",
              "      <th>POS</th>\n",
              "      <th>Tag</th>\n",
              "    </tr>\n",
              "  </thead>\n",
              "  <tbody>\n",
              "    <tr>\n",
              "      <th>count</th>\n",
              "      <td>47959</td>\n",
              "      <td>1048575</td>\n",
              "      <td>1048575</td>\n",
              "      <td>1048575</td>\n",
              "    </tr>\n",
              "    <tr>\n",
              "      <th>unique</th>\n",
              "      <td>47959</td>\n",
              "      <td>35178</td>\n",
              "      <td>42</td>\n",
              "      <td>17</td>\n",
              "    </tr>\n",
              "    <tr>\n",
              "      <th>top</th>\n",
              "      <td>Sentence: 13824</td>\n",
              "      <td>the</td>\n",
              "      <td>NN</td>\n",
              "      <td>O</td>\n",
              "    </tr>\n",
              "    <tr>\n",
              "      <th>freq</th>\n",
              "      <td>1</td>\n",
              "      <td>52573</td>\n",
              "      <td>145807</td>\n",
              "      <td>887908</td>\n",
              "    </tr>\n",
              "  </tbody>\n",
              "</table>\n",
              "</div>"
            ],
            "text/plain": [
              "             Sentence #     Word      POS      Tag\n",
              "count             47959  1048575  1048575  1048575\n",
              "unique            47959    35178       42       17\n",
              "top     Sentence: 13824      the       NN        O\n",
              "freq                  1    52573   145807   887908"
            ]
          },
          "metadata": {
            "tags": []
          },
          "execution_count": 9
        }
      ]
    },
    {
      "cell_type": "markdown",
      "metadata": {
        "id": "p9lbW2LwfE0S",
        "colab_type": "text"
      },
      "source": [
        "geo = Geographical Entity\n",
        "\n",
        "org = Organization\n",
        "\n",
        "per = Person\n",
        "\n",
        "gpe = Geopolitical Entity\n",
        "\n",
        "tim = Time indicator\n",
        "\n",
        "art = Artifact\n",
        "\n",
        "eve = Event\n",
        "\n",
        "nat = Natural Phenomenon"
      ]
    },
    {
      "cell_type": "code",
      "metadata": {
        "id": "frLYAHb_bf9x",
        "colab_type": "code",
        "colab": {
          "base_uri": "https://localhost:8080/",
          "height": 68
        },
        "outputId": "322c96bd-d1ca-4c0c-cbc6-47cac66ab47c"
      },
      "source": [
        "ner_dataset.Tag.unique()"
      ],
      "execution_count": 10,
      "outputs": [
        {
          "output_type": "execute_result",
          "data": {
            "text/plain": [
              "array(['O', 'B-geo', 'B-gpe', 'B-per', 'I-geo', 'B-org', 'I-org', 'B-tim',\n",
              "       'B-art', 'I-art', 'I-per', 'I-gpe', 'I-tim', 'B-nat', 'B-eve',\n",
              "       'I-eve', 'I-nat'], dtype=object)"
            ]
          },
          "metadata": {
            "tags": []
          },
          "execution_count": 10
        }
      ]
    },
    {
      "cell_type": "code",
      "metadata": {
        "id": "mMU9DehLdXOc",
        "colab_type": "code",
        "colab": {
          "base_uri": "https://localhost:8080/",
          "height": 323
        },
        "outputId": "0875ecbd-2443-468a-e649-6a8b48b5e077"
      },
      "source": [
        "ner_dataset.Tag.value_counts()"
      ],
      "execution_count": 11,
      "outputs": [
        {
          "output_type": "execute_result",
          "data": {
            "text/plain": [
              "O        887908\n",
              "B-geo     37644\n",
              "B-tim     20333\n",
              "B-org     20143\n",
              "I-per     17251\n",
              "B-per     16990\n",
              "I-org     16784\n",
              "B-gpe     15870\n",
              "I-geo      7414\n",
              "I-tim      6528\n",
              "B-art       402\n",
              "B-eve       308\n",
              "I-art       297\n",
              "I-eve       253\n",
              "B-nat       201\n",
              "I-gpe       198\n",
              "I-nat        51\n",
              "Name: Tag, dtype: int64"
            ]
          },
          "metadata": {
            "tags": []
          },
          "execution_count": 11
        }
      ]
    },
    {
      "cell_type": "code",
      "metadata": {
        "id": "iZskqbHtbmdz",
        "colab_type": "code",
        "colab": {
          "base_uri": "https://localhost:8080/",
          "height": 102
        },
        "outputId": "c6f95c3f-dec1-4e40-b579-a8ba70b5fc85"
      },
      "source": [
        "ner_dataset.POS.unique()"
      ],
      "execution_count": 12,
      "outputs": [
        {
          "output_type": "execute_result",
          "data": {
            "text/plain": [
              "array(['NNS', 'IN', 'VBP', 'VBN', 'NNP', 'TO', 'VB', 'DT', 'NN', 'CC',\n",
              "       'JJ', '.', 'VBD', 'WP', '``', 'CD', 'PRP', 'VBZ', 'POS', 'VBG',\n",
              "       'RB', ',', 'WRB', 'PRP$', 'MD', 'WDT', 'JJR', ':', 'JJS', 'WP$',\n",
              "       'RP', 'PDT', 'NNPS', 'EX', 'RBS', 'LRB', 'RRB', '$', 'RBR', ';',\n",
              "       'UH', 'FW'], dtype=object)"
            ]
          },
          "metadata": {
            "tags": []
          },
          "execution_count": 12
        }
      ]
    },
    {
      "cell_type": "code",
      "metadata": {
        "id": "sg8M28fDcTIW",
        "colab_type": "code",
        "colab": {
          "base_uri": "https://localhost:8080/",
          "height": 34
        },
        "outputId": "70d2084a-2ebe-439f-b562-3e7e4ad8346e"
      },
      "source": [
        "number_of_word = len(list(set(ner_dataset.Word.values)))\n",
        "number_of_word"
      ],
      "execution_count": 13,
      "outputs": [
        {
          "output_type": "execute_result",
          "data": {
            "text/plain": [
              "35178"
            ]
          },
          "metadata": {
            "tags": []
          },
          "execution_count": 13
        }
      ]
    },
    {
      "cell_type": "markdown",
      "metadata": {
        "id": "NyI7Rnr1qb0L",
        "colab_type": "text"
      },
      "source": [
        "## Create training data / futher data preprocessing"
      ]
    },
    {
      "cell_type": "code",
      "metadata": {
        "id": "JQgP5nsmn-84",
        "colab_type": "code",
        "colab": {
          "base_uri": "https://localhost:8080/",
          "height": 204
        },
        "outputId": "bcf02180-a6bd-406d-a8d4-014d63beabfd"
      },
      "source": [
        "ner_dataset = ner_dataset.fillna(method = 'ffill')\n",
        "ner_dataset.head()"
      ],
      "execution_count": 14,
      "outputs": [
        {
          "output_type": "execute_result",
          "data": {
            "text/html": [
              "<div>\n",
              "<style scoped>\n",
              "    .dataframe tbody tr th:only-of-type {\n",
              "        vertical-align: middle;\n",
              "    }\n",
              "\n",
              "    .dataframe tbody tr th {\n",
              "        vertical-align: top;\n",
              "    }\n",
              "\n",
              "    .dataframe thead th {\n",
              "        text-align: right;\n",
              "    }\n",
              "</style>\n",
              "<table border=\"1\" class=\"dataframe\">\n",
              "  <thead>\n",
              "    <tr style=\"text-align: right;\">\n",
              "      <th></th>\n",
              "      <th>Sentence #</th>\n",
              "      <th>Word</th>\n",
              "      <th>POS</th>\n",
              "      <th>Tag</th>\n",
              "    </tr>\n",
              "  </thead>\n",
              "  <tbody>\n",
              "    <tr>\n",
              "      <th>0</th>\n",
              "      <td>Sentence: 1</td>\n",
              "      <td>Thousands</td>\n",
              "      <td>NNS</td>\n",
              "      <td>O</td>\n",
              "    </tr>\n",
              "    <tr>\n",
              "      <th>1</th>\n",
              "      <td>Sentence: 1</td>\n",
              "      <td>of</td>\n",
              "      <td>IN</td>\n",
              "      <td>O</td>\n",
              "    </tr>\n",
              "    <tr>\n",
              "      <th>2</th>\n",
              "      <td>Sentence: 1</td>\n",
              "      <td>demonstrators</td>\n",
              "      <td>NNS</td>\n",
              "      <td>O</td>\n",
              "    </tr>\n",
              "    <tr>\n",
              "      <th>3</th>\n",
              "      <td>Sentence: 1</td>\n",
              "      <td>have</td>\n",
              "      <td>VBP</td>\n",
              "      <td>O</td>\n",
              "    </tr>\n",
              "    <tr>\n",
              "      <th>4</th>\n",
              "      <td>Sentence: 1</td>\n",
              "      <td>marched</td>\n",
              "      <td>VBN</td>\n",
              "      <td>O</td>\n",
              "    </tr>\n",
              "  </tbody>\n",
              "</table>\n",
              "</div>"
            ],
            "text/plain": [
              "    Sentence #           Word  POS Tag\n",
              "0  Sentence: 1      Thousands  NNS   O\n",
              "1  Sentence: 1             of   IN   O\n",
              "2  Sentence: 1  demonstrators  NNS   O\n",
              "3  Sentence: 1           have  VBP   O\n",
              "4  Sentence: 1        marched  VBN   O"
            ]
          },
          "metadata": {
            "tags": []
          },
          "execution_count": 14
        }
      ]
    },
    {
      "cell_type": "code",
      "metadata": {
        "id": "S4otNb9lnyuk",
        "colab_type": "code",
        "collapsed": true,
        "colab": {
          "base_uri": "https://localhost:8080/",
          "height": 850
        },
        "outputId": "1aab7b49-17cb-401e-fb7b-f4b3e2bf255b"
      },
      "source": [
        "agg_func = lambda s: [(word,tag) for word, tag in zip(s.Word.to_list() ,s.Tag.to_list())]\n",
        "\n",
        "grouped_data = ner_dataset[['Sentence #','Word','Tag']].groupby('Sentence #').apply(agg_func)\n",
        "\n",
        "sentences = [s for s in grouped_data ]\n",
        "\n",
        "sentences [:2]"
      ],
      "execution_count": 15,
      "outputs": [
        {
          "output_type": "execute_result",
          "data": {
            "text/plain": [
              "[[('Thousands', 'O'),\n",
              "  ('of', 'O'),\n",
              "  ('demonstrators', 'O'),\n",
              "  ('have', 'O'),\n",
              "  ('marched', 'O'),\n",
              "  ('through', 'O'),\n",
              "  ('London', 'B-geo'),\n",
              "  ('to', 'O'),\n",
              "  ('protest', 'O'),\n",
              "  ('the', 'O'),\n",
              "  ('war', 'O'),\n",
              "  ('in', 'O'),\n",
              "  ('Iraq', 'B-geo'),\n",
              "  ('and', 'O'),\n",
              "  ('demand', 'O'),\n",
              "  ('the', 'O'),\n",
              "  ('withdrawal', 'O'),\n",
              "  ('of', 'O'),\n",
              "  ('British', 'B-gpe'),\n",
              "  ('troops', 'O'),\n",
              "  ('from', 'O'),\n",
              "  ('that', 'O'),\n",
              "  ('country', 'O'),\n",
              "  ('.', 'O')],\n",
              " [('Iranian', 'B-gpe'),\n",
              "  ('officials', 'O'),\n",
              "  ('say', 'O'),\n",
              "  ('they', 'O'),\n",
              "  ('expect', 'O'),\n",
              "  ('to', 'O'),\n",
              "  ('get', 'O'),\n",
              "  ('access', 'O'),\n",
              "  ('to', 'O'),\n",
              "  ('sealed', 'O'),\n",
              "  ('sensitive', 'O'),\n",
              "  ('parts', 'O'),\n",
              "  ('of', 'O'),\n",
              "  ('the', 'O'),\n",
              "  ('plant', 'O'),\n",
              "  ('Wednesday', 'B-tim'),\n",
              "  (',', 'O'),\n",
              "  ('after', 'O'),\n",
              "  ('an', 'O'),\n",
              "  ('IAEA', 'B-org'),\n",
              "  ('surveillance', 'O'),\n",
              "  ('system', 'O'),\n",
              "  ('begins', 'O'),\n",
              "  ('functioning', 'O'),\n",
              "  ('.', 'O')]]"
            ]
          },
          "metadata": {
            "tags": []
          },
          "execution_count": 15
        }
      ]
    },
    {
      "cell_type": "code",
      "metadata": {
        "id": "qfkHUUr4ySFx",
        "colab_type": "code",
        "colab": {
          "base_uri": "https://localhost:8080/",
          "height": 85
        },
        "outputId": "f7448308-92e1-4a95-8464-63e1d83386da"
      },
      "source": [
        "unique_word = list(set(ner_dataset.Word.values))\n",
        "print(unique_word[:5])\n",
        "n_word = len(unique_word)\n",
        "print(n_word)\n",
        "\n",
        "unique_tag = list(set(ner_dataset.Tag.values))\n",
        "print(unique_tag[:5])\n",
        "n_tag = len(unique_tag)\n",
        "print(n_tag)"
      ],
      "execution_count": 16,
      "outputs": [
        {
          "output_type": "stream",
          "text": [
            "['obsessed', 'Murr', 'sponsoring', 'Odegbami', 'festivities']\n",
            "35178\n",
            "['O', 'B-tim', 'I-gpe', 'I-nat', 'I-art']\n",
            "17\n"
          ],
          "name": "stdout"
        }
      ]
    },
    {
      "cell_type": "code",
      "metadata": {
        "id": "Ll6xutOJ1N04",
        "colab_type": "code",
        "colab": {}
      },
      "source": [
        "word2index = {w:i+2 for i,w in enumerate(unique_word)}\n",
        "word2index['UNK'] = 1 # Unknow word\n",
        "word2index['PAD'] = 0 # padding\n",
        "\n",
        "tag2index = {t:i+1 for i,t in enumerate(unique_tag)}\n",
        "tag2index['PAD'] = 0"
      ],
      "execution_count": 17,
      "outputs": []
    },
    {
      "cell_type": "code",
      "metadata": {
        "id": "-7-YKem8AEGF",
        "colab_type": "code",
        "colab": {}
      },
      "source": [
        "from keras.utils import to_categorical\n",
        "\n",
        "X = [[word2index[w[0]] for w in s] for s in sentences]\n",
        "y = [[tag2index[w[1]] for w in s] for s in sentences]\n",
        "\n",
        "y = [to_categorical(i, num_classes=n_tag+1) for i in y] # add pad tag\n"
      ],
      "execution_count": 18,
      "outputs": []
    },
    {
      "cell_type": "code",
      "metadata": {
        "id": "KkHv2uGJAKeH",
        "colab_type": "code",
        "collapsed": true,
        "colab": {
          "base_uri": "https://localhost:8080/",
          "height": 309
        },
        "outputId": "6044fdb7-d535-4950-f47c-b6642b50a87b"
      },
      "source": [
        "# install keras_contrib to use CRF \n",
        "!sudo pip install git+https://www.github.com/keras-team/keras-contrib.git\n"
      ],
      "execution_count": 19,
      "outputs": [
        {
          "output_type": "stream",
          "text": [
            "Collecting git+https://www.github.com/keras-team/keras-contrib.git\n",
            "  Cloning https://www.github.com/keras-team/keras-contrib.git to /tmp/pip-req-build-8p5b76x8\n",
            "  Running command git clone -q https://www.github.com/keras-team/keras-contrib.git /tmp/pip-req-build-8p5b76x8\n",
            "Requirement already satisfied: keras in /usr/local/lib/python3.6/dist-packages (from keras-contrib==2.0.8) (2.4.3)\n",
            "Requirement already satisfied: scipy>=0.14 in /usr/local/lib/python3.6/dist-packages (from keras->keras-contrib==2.0.8) (1.4.1)\n",
            "Requirement already satisfied: numpy>=1.9.1 in /usr/local/lib/python3.6/dist-packages (from keras->keras-contrib==2.0.8) (1.18.5)\n",
            "Requirement already satisfied: pyyaml in /usr/local/lib/python3.6/dist-packages (from keras->keras-contrib==2.0.8) (3.13)\n",
            "Requirement already satisfied: h5py in /usr/local/lib/python3.6/dist-packages (from keras->keras-contrib==2.0.8) (2.10.0)\n",
            "Requirement already satisfied: six in /usr/local/lib/python3.6/dist-packages (from h5py->keras->keras-contrib==2.0.8) (1.15.0)\n",
            "Building wheels for collected packages: keras-contrib\n",
            "  Building wheel for keras-contrib (setup.py) ... \u001b[?25l\u001b[?25hdone\n",
            "  Created wheel for keras-contrib: filename=keras_contrib-2.0.8-cp36-none-any.whl size=101064 sha256=46549634ade7bdd5b4b897f6545b9fcfd0e6374bd40ec990f56dbd00e2cc15b5\n",
            "  Stored in directory: /tmp/pip-ephem-wheel-cache-dkwi6gpg/wheels/11/27/c8/4ed56de7b55f4f61244e2dc6ef3cdbaff2692527a2ce6502ba\n",
            "Successfully built keras-contrib\n",
            "Installing collected packages: keras-contrib\n",
            "Successfully installed keras-contrib-2.0.8\n"
          ],
          "name": "stdout"
        }
      ]
    },
    {
      "cell_type": "markdown",
      "metadata": {
        "id": "94KSCq4RUqx6",
        "colab_type": "text"
      },
      "source": [
        "## Training model"
      ]
    },
    {
      "cell_type": "markdown",
      "metadata": {
        "id": "Eax93xiLt828",
        "colab_type": "text"
      },
      "source": [
        "Note: tf.keras khác với keras, vì vậy chỉ sử dụng một trong 2, ko được trộn lẫn vào nhau"
      ]
    },
    {
      "cell_type": "code",
      "metadata": {
        "id": "sKOjFXljTyhV",
        "colab_type": "code",
        "colab": {
          "base_uri": "https://localhost:8080/",
          "height": 360
        },
        "outputId": "c321afe7-fa16-4645-ea98-db711c7d6670"
      },
      "source": [
        "from sklearn.model_selection import train_test_split\n",
        "import tensorflow as tf\n",
        "from tensorflow import keras\n",
        "from keras.layers import Bidirectional, LSTM, Dense, TimeDistributed, Embedding\n",
        "from keras.models import Model, Input, Sequential\n",
        "from keras.preprocessing.sequence import pad_sequences\n",
        "from keras_contrib.layers import CRF\n",
        "\n",
        "# Pad sequences: ta không cần quan tâm value vì ta sẽ ignore padding value khi train and use RNN\n",
        "maxlen = max([len(s) for s in sentences])\n",
        "X = pad_sequences(X, maxlen = maxlen, padding = 'post', value = word2index['PAD'])\n",
        "y = pad_sequences(y, maxlen = maxlen, padding = 'post', value = tag2index['PAD'])\n",
        "\n",
        "# train_test_split\n",
        "X_train, X_test, y_train, y_test = train_test_split(X , y, train_size = 0.9)\n",
        "\n",
        "# Create model\n",
        "model = Sequential()\n",
        "\n",
        "#Set mask_zero =True to ignore padding values\n",
        "model.add(Embedding(input_dim = n_word+2, output_dim = 300, mask_zero = False))\n",
        "model.add(Bidirectional(LSTM(128, dropout = 0.5, recurrent_dropout=0.5, return_sequences = True)))\n",
        "model.add(Bidirectional(LSTM(64, return_sequences = True)))\n",
        "#This TimeDistributed layers áp dụng dense layer đối với mỗi timestep. Do đó ta nhất định phải dùng lớp này\n",
        "model.add(TimeDistributed(Dense(n_tag+1, activation ='relu')))\n",
        "#Conditional Random fields\n",
        "#crf = CRF(n_tag+1)\n",
        "#model.add(crf)\n",
        "\n",
        "model.summary()"
      ],
      "execution_count": 20,
      "outputs": [
        {
          "output_type": "stream",
          "text": [
            "WARNING:tensorflow:Layer lstm will not use cuDNN kernel since it doesn't meet the cuDNN kernel criteria. It will use generic GPU kernel as fallback when running on GPU\n",
            "WARNING:tensorflow:Layer lstm will not use cuDNN kernel since it doesn't meet the cuDNN kernel criteria. It will use generic GPU kernel as fallback when running on GPU\n",
            "WARNING:tensorflow:Layer lstm will not use cuDNN kernel since it doesn't meet the cuDNN kernel criteria. It will use generic GPU kernel as fallback when running on GPU\n",
            "Model: \"sequential\"\n",
            "_________________________________________________________________\n",
            "Layer (type)                 Output Shape              Param #   \n",
            "=================================================================\n",
            "embedding (Embedding)        (None, None, 300)         10554000  \n",
            "_________________________________________________________________\n",
            "bidirectional (Bidirectional (None, None, 256)         439296    \n",
            "_________________________________________________________________\n",
            "bidirectional_1 (Bidirection (None, None, 128)         164352    \n",
            "_________________________________________________________________\n",
            "time_distributed (TimeDistri (None, None, 18)          2322      \n",
            "=================================================================\n",
            "Total params: 11,159,970\n",
            "Trainable params: 11,159,970\n",
            "Non-trainable params: 0\n",
            "_________________________________________________________________\n"
          ],
          "name": "stdout"
        }
      ]
    },
    {
      "cell_type": "code",
      "metadata": {
        "id": "1VScgL_ZU9RJ",
        "colab_type": "code",
        "colab": {}
      },
      "source": [
        "import os\n",
        "from keras.callbacks import ModelCheckpoint, EarlyStopping, LearningRateScheduler\n",
        "# Early stopping\n",
        "early_stopping = EarlyStopping(\n",
        "    monitor = 'val_loss',\n",
        "    patience = 3, \n",
        "    mode ='max' # because loss is log likelihood estimation)\n",
        ")\n",
        "#Save model\n",
        "checkpoint_path = r'biLSTM_CRF/cp.h5'\n",
        "checkpoint_dir = os.path.dirname(checkpoint_path)\n",
        "modelcheckpoint = ModelCheckpoint(\n",
        "    filepath = checkpoint_path,\n",
        "    monitor = 'val_accuracy',\n",
        "    mode = 'max',\n",
        "    save_weights_only = True\n",
        ")\n",
        "# Learning rate decay\n",
        "#Giu nguyên learning rate trong 8 epochs đầu, sau đó giảm learning rate thep hàm số mũ\n",
        "def scheduler(epoch, lr):\n",
        "  if epoch < 8:\n",
        "    return lr\n",
        "  else:\n",
        "    return lr * tf.math.exp(-0.1)\n",
        "learning_rate_decay = LearningRateScheduler(scheduler)\n",
        "\n",
        "callback_list = [early_stopping,modelcheckpoint, learning_rate_decay]"
      ],
      "execution_count": 21,
      "outputs": []
    },
    {
      "cell_type": "code",
      "metadata": {
        "id": "tXJKIbGBBcq8",
        "colab_type": "code",
        "colab": {
          "base_uri": "https://localhost:8080/",
          "height": 153
        },
        "outputId": "69dabe2e-4708-4ff2-b612-7a71def09172"
      },
      "source": [
        "model.compile(\n",
        "    optimizer = 'adam',\n",
        "    loss = keras.losses.CategoricalCrossentropy(from_logits=True),\n",
        "    metrics = ['accuracy']\n",
        ")\n",
        "\n",
        "history = model.fit(X_train,np.array(y_train),\n",
        "          batch_size= 256, epochs= 10,\n",
        "          validation_split = 0.1,\n",
        "\n",
        "\n",
        "          callbacks = callback_list\n",
        ")"
      ],
      "execution_count": 26,
      "outputs": [
        {
          "output_type": "stream",
          "text": [
            "Epoch 1/10\n",
            "152/152 [==============================] - 197s 1s/step - loss: 0.1378 - accuracy: 0.9565 - val_loss: 0.0916 - val_accuracy: 0.9764\n",
            "Epoch 2/10\n",
            "152/152 [==============================] - 196s 1s/step - loss: 0.0799 - accuracy: 0.9776 - val_loss: 0.0749 - val_accuracy: 0.9795\n",
            "Epoch 3/10\n",
            "152/152 [==============================] - 195s 1s/step - loss: 0.0681 - accuracy: 0.9801 - val_loss: 0.0685 - val_accuracy: 0.9806\n",
            "Epoch 4/10\n",
            "152/152 [==============================] - 194s 1s/step - loss: 0.0630 - accuracy: 0.9814 - val_loss: 0.0672 - val_accuracy: 0.9808\n"
          ],
          "name": "stdout"
        }
      ]
    },
    {
      "cell_type": "code",
      "metadata": {
        "id": "Moqx6OdRFXsh",
        "colab_type": "code",
        "colab": {
          "base_uri": "https://localhost:8080/",
          "height": 51
        },
        "outputId": "73868193-3a24-4089-da3a-fc4dc6eadb24"
      },
      "source": [
        "model.evaluate(X_test,np.array(y_test))"
      ],
      "execution_count": 28,
      "outputs": [
        {
          "output_type": "stream",
          "text": [
            "150/150 [==============================] - 21s 137ms/step - loss: 0.0669 - accuracy: 0.9808\n"
          ],
          "name": "stdout"
        },
        {
          "output_type": "execute_result",
          "data": {
            "text/plain": [
              "[0.06690218299627304, 0.9807832837104797]"
            ]
          },
          "metadata": {
            "tags": []
          },
          "execution_count": 28
        }
      ]
    },
    {
      "cell_type": "markdown",
      "metadata": {
        "id": "FG106En-GZMh",
        "colab_type": "text"
      },
      "source": [
        "## Evaluate model"
      ]
    },
    {
      "cell_type": "code",
      "metadata": {
        "id": "0I5fsqm5GYUi",
        "colab_type": "code",
        "colab": {
          "base_uri": "https://localhost:8080/",
          "height": 279
        },
        "outputId": "e09b0af5-e1f7-43bf-c2f8-a3c39ecade7b"
      },
      "source": [
        "import matplotlib.pyplot as plt\n",
        "\n",
        "def plot_graphs(history, metric):\n",
        "  plt.plot(history.history[metric])\n",
        "  plt.plot(history.history['val_'+metric],'')\n",
        "  plt.xlabel('Epochs')\n",
        "  plt.ylabel(metric)\n",
        "  plt.legend([metric, 'val_'+metric])\n",
        "  plt.show()\n",
        "\n",
        "plot_graphs(history, 'accuracy')"
      ],
      "execution_count": 29,
      "outputs": [
        {
          "output_type": "display_data",
          "data": {
            "image/png": "[encoded data removed]",
            "text/plain": [
              "<Figure size 432x288 with 1 Axes>"
            ]
          },
          "metadata": {
            "tags": [],
            "needs_background": "light"
          }
        }
      ]
    },
    {
      "cell_type": "code",
      "metadata": {
        "id": "2Tj03_2BJeXf",
        "colab_type": "code",
        "colab": {
          "base_uri": "https://localhost:8080/",
          "height": 207
        },
        "collapsed": true,
        "outputId": "392e5008-b4be-42c2-b110-08e43465d4a3"
      },
      "source": [
        "! pip install sklearn_crfsuite"
      ],
      "execution_count": 30,
      "outputs": [
        {
          "output_type": "stream",
          "text": [
            "Collecting sklearn_crfsuite\n",
            "  Downloading https://files.pythonhosted.org/packages/25/74/5b7befa513482e6dee1f3dd68171a6c9dfc14c0eaa00f885ffeba54fe9b0/sklearn_crfsuite-0.3.6-py2.py3-none-any.whl\n",
            "Collecting python-crfsuite>=0.8.3\n",
            "\u001b[?25l  Downloading https://files.pythonhosted.org/packages/95/99/869dde6dbf3e0d07a013c8eebfb0a3d30776334e0097f8432b631a9a3a19/python_crfsuite-0.9.7-cp36-cp36m-manylinux1_x86_64.whl (743kB)\n",
            "\r\u001b[K     |▍                               | 10kB 18.3MB/s eta 0:00:01\r\u001b[K     |▉                               | 20kB 9.4MB/s eta 0:00:01\r\u001b[K     |█▎                              | 30kB 2.6MB/s eta 0:00:01\r\u001b[K     |█▊                              | 40kB 3.3MB/s eta 0:00:01\r\u001b[K     |██▏                             | 51kB 3.6MB/s eta 0:00:01\r\u001b[K     |██▋                             | 61kB 3.9MB/s eta 0:00:01\r\u001b[K     |███                             | 71kB 4.1MB/s eta 0:00:01\r\u001b[K     |███▌                            | 81kB 4.5MB/s eta 0:00:01\r\u001b[K     |████                            | 92kB 3.8MB/s eta 0:00:01\r\u001b[K     |████▍                           | 102kB 4.0MB/s eta 0:00:01\r\u001b[K     |████▉                           | 112kB 4.0MB/s eta 0:00:01\r\u001b[K     |█████▎                          | 122kB 4.0MB/s eta 0:00:01\r\u001b[K     |█████▊                          | 133kB 4.0MB/s eta 0:00:01\r\u001b[K     |██████▏                         | 143kB 4.0MB/s eta 0:00:01\r\u001b[K     |██████▋                         | 153kB 4.0MB/s eta 0:00:01\r\u001b[K     |███████                         | 163kB 4.0MB/s eta 0:00:01\r\u001b[K     |███████▌                        | 174kB 4.0MB/s eta 0:00:01\r\u001b[K     |████████                        | 184kB 4.0MB/s eta 0:00:01\r\u001b[K     |████████▍                       | 194kB 4.0MB/s eta 0:00:01\r\u001b[K     |████████▉                       | 204kB 4.0MB/s eta 0:00:01\r\u001b[K     |█████████▎                      | 215kB 4.0MB/s eta 0:00:01\r\u001b[K     |█████████▊                      | 225kB 4.0MB/s eta 0:00:01\r\u001b[K     |██████████▏                     | 235kB 4.0MB/s eta 0:00:01\r\u001b[K     |██████████▋                     | 245kB 4.0MB/s eta 0:00:01\r\u001b[K     |███████████                     | 256kB 4.0MB/s eta 0:00:01\r\u001b[K     |███████████▌                    | 266kB 4.0MB/s eta 0:00:01\r\u001b[K     |████████████                    | 276kB 4.0MB/s eta 0:00:01\r\u001b[K     |████████████▎                   | 286kB 4.0MB/s eta 0:00:01\r\u001b[K     |████████████▊                   | 296kB 4.0MB/s eta 0:00:01\r\u001b[K     |█████████████▏                  | 307kB 4.0MB/s eta 0:00:01\r\u001b[K     |█████████████▋                  | 317kB 4.0MB/s eta 0:00:01\r\u001b[K     |██████████████                  | 327kB 4.0MB/s eta 0:00:01\r\u001b[K     |██████████████▌                 | 337kB 4.0MB/s eta 0:00:01\r\u001b[K     |███████████████                 | 348kB 4.0MB/s eta 0:00:01\r\u001b[K     |███████████████▍                | 358kB 4.0MB/s eta 0:00:01\r\u001b[K     |███████████████▉                | 368kB 4.0MB/s eta 0:00:01\r\u001b[K     |████████████████▎               | 378kB 4.0MB/s eta 0:00:01\r\u001b[K     |████████████████▊               | 389kB 4.0MB/s eta 0:00:01\r\u001b[K     |█████████████████▏              | 399kB 4.0MB/s eta 0:00:01\r\u001b[K     |█████████████████▋              | 409kB 4.0MB/s eta 0:00:01\r\u001b[K     |██████████████████              | 419kB 4.0MB/s eta 0:00:01\r\u001b[K     |██████████████████▌             | 430kB 4.0MB/s eta 0:00:01\r\u001b[K     |███████████████████             | 440kB 4.0MB/s eta 0:00:01\r\u001b[K     |███████████████████▍            | 450kB 4.0MB/s eta 0:00:01\r\u001b[K     |███████████████████▉            | 460kB 4.0MB/s eta 0:00:01\r\u001b[K     |████████████████████▎           | 471kB 4.0MB/s eta 0:00:01\r\u001b[K     |████████████████████▊           | 481kB 4.0MB/s eta 0:00:01\r\u001b[K     |█████████████████████▏          | 491kB 4.0MB/s eta 0:00:01\r\u001b[K     |█████████████████████▋          | 501kB 4.0MB/s eta 0:00:01\r\u001b[K     |██████████████████████          | 512kB 4.0MB/s eta 0:00:01\r\u001b[K     |██████████████████████▌         | 522kB 4.0MB/s eta 0:00:01\r\u001b[K     |███████████████████████         | 532kB 4.0MB/s eta 0:00:01\r\u001b[K     |███████████████████████▍        | 542kB 4.0MB/s eta 0:00:01\r\u001b[K     |███████████████████████▉        | 552kB 4.0MB/s eta 0:00:01\r\u001b[K     |████████████████████████▎       | 563kB 4.0MB/s eta 0:00:01\r\u001b[K     |████████████████████████▋       | 573kB 4.0MB/s eta 0:00:01\r\u001b[K     |█████████████████████████       | 583kB 4.0MB/s eta 0:00:01\r\u001b[K     |█████████████████████████▌      | 593kB 4.0MB/s eta 0:00:01\r\u001b[K     |██████████████████████████      | 604kB 4.0MB/s eta 0:00:01\r\u001b[K     |██████████████████████████▍     | 614kB 4.0MB/s eta 0:00:01\r\u001b[K     |██████████████████████████▉     | 624kB 4.0MB/s eta 0:00:01\r\u001b[K     |███████████████████████████▎    | 634kB 4.0MB/s eta 0:00:01\r\u001b[K     |███████████████████████████▊    | 645kB 4.0MB/s eta 0:00:01\r\u001b[K     |████████████████████████████▏   | 655kB 4.0MB/s eta 0:00:01\r\u001b[K     |████████████████████████████▋   | 665kB 4.0MB/s eta 0:00:01\r\u001b[K     |█████████████████████████████   | 675kB 4.0MB/s eta 0:00:01\r\u001b[K     |█████████████████████████████▌  | 686kB 4.0MB/s eta 0:00:01\r\u001b[K     |██████████████████████████████  | 696kB 4.0MB/s eta 0:00:01\r\u001b[K     |██████████████████████████████▍ | 706kB 4.0MB/s eta 0:00:01\r\u001b[K     |██████████████████████████████▉ | 716kB 4.0MB/s eta 0:00:01\r\u001b[K     |███████████████████████████████▎| 727kB 4.0MB/s eta 0:00:01\r\u001b[K     |███████████████████████████████▊| 737kB 4.0MB/s eta 0:00:01\r\u001b[K     |████████████████████████████████| 747kB 4.0MB/s \n",
            "\u001b[?25hRequirement already satisfied: tabulate in /usr/local/lib/python3.6/dist-packages (from sklearn_crfsuite) (0.8.7)\n",
            "Requirement already satisfied: six in /usr/local/lib/python3.6/dist-packages (from sklearn_crfsuite) (1.15.0)\n",
            "Requirement already satisfied: tqdm>=2.0 in /usr/local/lib/python3.6/dist-packages (from sklearn_crfsuite) (4.41.1)\n",
            "Installing collected packages: python-crfsuite, sklearn-crfsuite\n",
            "Successfully installed python-crfsuite-0.9.7 sklearn-crfsuite-0.3.6\n"
          ],
          "name": "stdout"
        }
      ]
    },
    {
      "cell_type": "code",
      "metadata": {
        "id": "otljGzT8JtCI",
        "colab_type": "code",
        "colab": {
          "base_uri": "https://localhost:8080/",
          "height": 272
        },
        "collapsed": true,
        "outputId": "c659d612-bf75-446a-c93a-50f6a65006b5"
      },
      "source": [
        "! pip install seqeval"
      ],
      "execution_count": 31,
      "outputs": [
        {
          "output_type": "stream",
          "text": [
            "Collecting seqeval\n",
            "  Downloading https://files.pythonhosted.org/packages/34/91/068aca8d60ce56dd9ba4506850e876aba5e66a6f2f29aa223224b50df0de/seqeval-0.0.12.tar.gz\n",
            "Requirement already satisfied: numpy>=1.14.0 in /usr/local/lib/python3.6/dist-packages (from seqeval) (1.18.5)\n",
            "Requirement already satisfied: Keras>=2.2.4 in /usr/local/lib/python3.6/dist-packages (from seqeval) (2.4.3)\n",
            "Requirement already satisfied: scipy>=0.14 in /usr/local/lib/python3.6/dist-packages (from Keras>=2.2.4->seqeval) (1.4.1)\n",
            "Requirement already satisfied: h5py in /usr/local/lib/python3.6/dist-packages (from Keras>=2.2.4->seqeval) (2.10.0)\n",
            "Requirement already satisfied: pyyaml in /usr/local/lib/python3.6/dist-packages (from Keras>=2.2.4->seqeval) (3.13)\n",
            "Requirement already satisfied: six in /usr/local/lib/python3.6/dist-packages (from h5py->Keras>=2.2.4->seqeval) (1.15.0)\n",
            "Building wheels for collected packages: seqeval\n",
            "  Building wheel for seqeval (setup.py) ... \u001b[?25l\u001b[?25hdone\n",
            "  Created wheel for seqeval: filename=seqeval-0.0.12-cp36-none-any.whl size=7424 sha256=a5b1ba93dcb1a4cda4d5631475c1741be3ca7c11c8dea6ff4f9e63e115c28d1c\n",
            "  Stored in directory: /root/.cache/pip/wheels/4f/32/0a/df3b340a82583566975377d65e724895b3fad101a3fb729f68\n",
            "Successfully built seqeval\n",
            "Installing collected packages: seqeval\n",
            "Successfully installed seqeval-0.0.12\n"
          ],
          "name": "stdout"
        }
      ]
    },
    {
      "cell_type": "code",
      "metadata": {
        "id": "Tk-qtFVEJVd_",
        "colab_type": "code",
        "colab": {
          "base_uri": "https://localhost:8080/",
          "height": 34
        },
        "outputId": "b07dff3c-6934-475a-dc62-e4fb9eaa4a93"
      },
      "source": [
        "from  sklearn_crfsuite.metrics import flat_classification_report  \n",
        "\n",
        "idx2tag = {i: w for w, i in tag2index.items()}\n",
        "\n",
        "def pred2label(pred):\n",
        "    out = []\n",
        "    for pred_i in pred:\n",
        "        out_i = []\n",
        "        for p in pred_i:\n",
        "            p_i = np.argmax(p)\n",
        "            out_i.append(idx2tag[p_i])\n",
        "        out.append(out_i)\n",
        "    return out\n",
        "test_pred = model.predict(X_test, verbose=1)   \n",
        "pred_labels = pred2label(test_pred)\n",
        "test_labels = pred2label(y_test)\n"
      ],
      "execution_count": 33,
      "outputs": [
        {
          "output_type": "stream",
          "text": [
            "150/150 [==============================] - 16s 110ms/step\n"
          ],
          "name": "stdout"
        }
      ]
    },
    {
      "cell_type": "markdown",
      "metadata": {
        "id": "OK9ZZUmXNpwI",
        "colab_type": "text"
      },
      "source": [
        "Sử dụng precision_score, recall_score, f1_score để đánh giá model"
      ]
    },
    {
      "cell_type": "code",
      "metadata": {
        "id": "fD5qLj6CL3j8",
        "colab_type": "code",
        "colab": {
          "base_uri": "https://localhost:8080/",
          "height": 34
        },
        "outputId": "68f23142-7c6a-4a3d-c879-fa8eb7470133"
      },
      "source": [
        "from seqeval.metrics import precision_score, recall_score, f1_score, classification_report\n",
        "print(\"F1-score: {:.1%}\".format(f1_score(test_labels, pred_labels)))"
      ],
      "execution_count": 34,
      "outputs": [
        {
          "output_type": "stream",
          "text": [
            "F1-score: 52.1%\n"
          ],
          "name": "stdout"
        }
      ]
    },
    {
      "cell_type": "code",
      "metadata": {
        "id": "ModZSiqSNbIt",
        "colab_type": "code",
        "colab": {
          "base_uri": "https://localhost:8080/",
          "height": 496
        },
        "outputId": "a3a3f774-8718-4257-dffe-f4add90e0fea"
      },
      "source": [
        "from  sklearn_crfsuite.metrics import flat_classification_report  \n",
        "report = flat_classification_report(y_pred=pred_labels, y_true=test_labels)\n",
        "print(report)"
      ],
      "execution_count": 35,
      "outputs": [
        {
          "output_type": "stream",
          "text": [
            "/usr/local/lib/python3.6/dist-packages/sklearn/metrics/_classification.py:1272: UndefinedMetricWarning: Precision and F-score are ill-defined and being set to 0.0 in labels with no predicted samples. Use `zero_division` parameter to control this behavior.\n",
            "  _warn_prf(average, modifier, msg_start, len(result))\n"
          ],
          "name": "stderr"
        },
        {
          "output_type": "stream",
          "text": [
            "              precision    recall  f1-score   support\n",
            "\n",
            "       B-art       0.00      0.00      0.00        49\n",
            "       B-eve       0.00      0.00      0.00        28\n",
            "       B-geo       0.79      0.92      0.85      3761\n",
            "       B-gpe       0.00      0.00      0.00      1582\n",
            "       B-nat       0.00      0.00      0.00        21\n",
            "       B-org       0.00      0.00      0.00      2047\n",
            "       B-per       0.61      0.87      0.72      1675\n",
            "       B-tim       0.00      0.00      0.00      2022\n",
            "       I-art       0.00      0.00      0.00        43\n",
            "       I-eve       0.00      0.00      0.00        19\n",
            "       I-geo       0.74      0.78      0.76       747\n",
            "       I-gpe       0.00      0.00      0.00        18\n",
            "       I-nat       0.00      0.00      0.00         6\n",
            "       I-org       0.61      0.79      0.69      1662\n",
            "       I-per       0.00      0.00      0.00      1682\n",
            "       I-tim       0.00      0.00      0.00       674\n",
            "           O       0.98      1.00      0.99     88883\n",
            "         PAD       0.99      1.00      0.99    393865\n",
            "\n",
            "    accuracy                           0.98    498784\n",
            "   macro avg       0.26      0.30      0.28    498784\n",
            "weighted avg       0.97      0.98      0.97    498784\n",
            "\n"
          ],
          "name": "stdout"
        }
      ]
    }
  ]
}